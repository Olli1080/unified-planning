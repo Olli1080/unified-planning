{
 "cells": [
  {
   "attachments": {},
   "cell_type": "markdown",
   "metadata": {
    "id": "6nOTljC_mTMn"
   },
   "source": [
    "# Hierarchical Planning Introduction with the Unified Planning library\n",
    "\n"
   ]
  },
  {
   "attachments": {},
   "cell_type": "markdown",
   "metadata": {
    "id": "t8dCcpf7mivV"
   },
   "source": [
    "## Setup the library and the planners\n",
    "\n",
    "We start by downloading (from github) the unified planning library and a hierarchical planner (aries)."
   ]
  },
  {
   "cell_type": "code",
   "execution_count": 143,
   "metadata": {
    "id": "GPKRUQgNZBo8"
   },
   "outputs": [],
   "source": [
    "# begin of installation"
   ]
  },
  {
   "cell_type": "code",
   "execution_count": 144,
   "metadata": {
    "id": "BoqALxJWdfl8"
   },
   "outputs": [
    {
     "name": "stdout",
     "output_type": "stream",
     "text": [
      "Requirement already satisfied: unified-planning in /mnt/data/work/projects/aiplan4eu/upf (0.3.0.110.dev1)\n",
      "Requirement already satisfied: networkx in ./env/lib/python3.8/site-packages (from unified-planning) (3.0)\n",
      "Requirement already satisfied: pyparsing in ./env/lib/python3.8/site-packages (from unified-planning) (3.0.9)\n",
      "Note: you may need to restart the kernel to use updated packages.\n",
      "Requirement already satisfied: up-aries in ./env/lib/python3.8/site-packages (0.0.4.post8)\n",
      "Requirement already satisfied: grpcio in ./env/lib/python3.8/site-packages (from up-aries) (1.51.1)\n",
      "Requirement already satisfied: grpcio-tools in ./env/lib/python3.8/site-packages (from up-aries) (1.51.1)\n",
      "Requirement already satisfied: pytest in ./env/lib/python3.8/site-packages (from up-aries) (7.2.1)\n",
      "Requirement already satisfied: unified_planning in /mnt/data/work/projects/aiplan4eu/upf (from up-aries) (0.3.0.110.dev1)\n",
      "Requirement already satisfied: protobuf<5.0dev,>=4.21.6 in ./env/lib/python3.8/site-packages (from grpcio-tools->up-aries) (4.22.0)\n",
      "Requirement already satisfied: setuptools in ./env/lib/python3.8/site-packages (from grpcio-tools->up-aries) (44.0.0)\n",
      "Requirement already satisfied: tomli>=1.0.0; python_version < \"3.11\" in ./env/lib/python3.8/site-packages (from pytest->up-aries) (2.0.1)\n",
      "Requirement already satisfied: attrs>=19.2.0 in ./env/lib/python3.8/site-packages (from pytest->up-aries) (22.2.0)\n",
      "Requirement already satisfied: packaging in ./env/lib/python3.8/site-packages (from pytest->up-aries) (23.0)\n",
      "Requirement already satisfied: exceptiongroup>=1.0.0rc8; python_version < \"3.11\" in ./env/lib/python3.8/site-packages (from pytest->up-aries) (1.1.0)\n",
      "Requirement already satisfied: iniconfig in ./env/lib/python3.8/site-packages (from pytest->up-aries) (2.0.0)\n",
      "Requirement already satisfied: pluggy<2.0,>=0.12 in ./env/lib/python3.8/site-packages (from pytest->up-aries) (1.0.0)\n",
      "Requirement already satisfied: networkx in ./env/lib/python3.8/site-packages (from unified_planning->up-aries) (3.0)\n",
      "Requirement already satisfied: pyparsing in ./env/lib/python3.8/site-packages (from unified_planning->up-aries) (3.0.9)\n",
      "Note: you may need to restart the kernel to use updated packages.\n"
     ]
    }
   ],
   "source": [
    "%pip install --pre unified-planning\n",
    "%pip install up-aries"
   ]
  },
  {
   "cell_type": "markdown",
   "metadata": {
    "id": "iNHFHxQKnKIp"
   },
   "source": [
    "We are now ready to use the Unified-Planning library!"
   ]
  },
  {
   "cell_type": "code",
   "execution_count": 145,
   "metadata": {
    "id": "uzkOkJbSdMTY"
   },
   "outputs": [],
   "source": [
    "# end of installation"
   ]
  },
  {
   "attachments": {},
   "cell_type": "markdown",
   "metadata": {
    "id": "9dP5scv7nNJu"
   },
   "source": [
    "## Specifyng a (flat) planning problem \n",
    "\n",
    "### Basic imports\n",
    "The basic imports we need for this demo are abstracted in the `shortcuts` and `htn` packages."
   ]
  },
  {
   "cell_type": "code",
   "execution_count": 146,
   "metadata": {
    "id": "06rETnGAfQHg"
   },
   "outputs": [],
   "source": [
    "import unified_planning\n",
    "from unified_planning.shortcuts import *\n",
    "from unified_planning.model.htn import *\n",
    "import unified_planning as up"
   ]
  },
  {
   "attachments": {},
   "cell_type": "markdown",
   "metadata": {},
   "source": [
    "### Logistics problem\n",
    "\n",
    "For this example, we are interested in *logistics* problem where the objective is to move packages from one location to another. Packages can be transported by truck between two locations in the same city, or by airplane between two airport locations in two distinct cities.\n",
    "\n",
    "\n",
    "We start by defining the problem structure: types, fluents, objects and actions.\n",
    "For this we create a new `HierarchicalProblem` and add all those elements to it.\n",
    "This is done exactly as it would have been done for non-hierarchical `Problem` (in fact `HierarchicalProblem` is a subclass of `Problem`)."
   ]
  },
  {
   "cell_type": "code",
   "execution_count": 147,
   "metadata": {
    "id": "huAy2IbVn0GZ"
   },
   "outputs": [],
   "source": [
    "pb = HierarchicalProblem()  # the only line that is specific to hierarchical planning\n",
    "\n",
    "PackageLoc = UserType(\"PackageLoc\")\n",
    "Loc = UserType(\"Location\", father=PackageLoc)\n",
    "Airport = UserType(\"Airport\", father=Loc)\n",
    "City = UserType(\"City\")\n",
    "Vehicle = UserType(\"Vehicle\", father=PackageLoc)\n",
    "Truck = UserType(\"Truck\", father=Vehicle)\n",
    "Airplane = UserType(\"Airplane\", father=Vehicle)\n",
    "Package = UserType(\"Package\")\n",
    "\n",
    "city = pb.add_fluent(\"city\", City, of=Loc)\n",
    "loc = pb.add_fluent(\"loc\", PackageLoc, package=Package)\n",
    "at = pb.add_fluent(\"at\", Loc, vehicle=Vehicle)\n",
    "\n",
    "city1 = pb.add_object(\"city1\", City)\n",
    "loc1 = pb.add_object(\"loc1\", Loc)\n",
    "pb.set_initial_value(city(loc1), city1)\n",
    "airport1 = pb.add_object(\"airport1\", Airport)\n",
    "pb.set_initial_value(city(airport1), city1)\n",
    "\n",
    "city2 = pb.add_object(\"city2\", City)\n",
    "loc2 = pb.add_object(\"loc2\", Loc)\n",
    "pb.set_initial_value(city(loc2), city2)\n",
    "airport2 = pb.add_object(\"airport2\", Airport)\n",
    "pb.set_initial_value(city(airport2), city2)\n",
    "\n",
    "truck1 = pb.add_object(\"truck1\", Truck)\n",
    "pb.set_initial_value(at(truck1), loc1)\n",
    "\n",
    "package1 = pb.add_object(\"package1\", Package)\n",
    "pb.set_initial_value(loc(package1), airport1)\n",
    "package2 = pb.add_object(\"package2\", Package)\n",
    "pb.set_initial_value(loc(package2), loc1)\n",
    "\n",
    "load = InstantaneousAction(\"load\", package=Package, vehicle=Vehicle, l=Loc)\n",
    "load.add_precondition(Equals(at(load.vehicle), load.l))\n",
    "load.add_precondition(Equals(loc(load.package), load.l))\n",
    "load.add_effect(loc(load.package), load.vehicle)  # package now in vehicle\n",
    "pb.add_action(load)\n",
    "\n",
    "unload = InstantaneousAction(\"unload\", package=Package, vehicle=Vehicle, l=Loc)\n",
    "unload.add_precondition(Equals(at(unload.vehicle), unload.l))\n",
    "unload.add_precondition(Equals(loc(unload.package), unload.vehicle))\n",
    "unload.add_effect(loc(unload.package), unload.l)\n",
    "pb.add_action(unload)\n",
    "\n",
    "move = InstantaneousAction(\"move\", truck=Truck, src=Loc, tgt=Loc)\n",
    "move.add_precondition(Equals(city(move.src), city(move.tgt)))\n",
    "move.add_precondition(Equals(at(move.truck), move.src))\n",
    "move.add_effect(at(move.truck), move.tgt)\n",
    "pb.add_action(move)\n",
    "\n",
    "fly_plane = InstantaneousAction(\"fly-plane\", plane=Airplane, src=Airport, tgt=Airport)\n",
    "fly_plane.add_precondition(Equals(at(fly_plane.plane), fly_plane.src))\n",
    "fly_plane.add_effect(at(fly_plane.plane), fly_plane.tgt)\n",
    "pb.add_action(fly_plane)"
   ]
  },
  {
   "attachments": {},
   "cell_type": "markdown",
   "metadata": {},
   "source": [
    "If we now create and solve a new version of problem with a trivial goal statement:"
   ]
  },
  {
   "cell_type": "code",
   "execution_count": 148,
   "metadata": {
    "id": "LZUgad7ZoA2p"
   },
   "outputs": [
    {
     "name": "stdout",
     "output_type": "stream",
     "text": [
      "Plan: None\n"
     ]
    }
   ],
   "source": [
    "def solve(pb: HierarchicalProblem):  # helper function that just invokes a planner and prints the plan\n",
    "    print(\"Plan:\", OneshotPlanner(problem_kind=pb.kind).solve(pb).plan)\n",
    "\n",
    "pb_clone = pb.clone()\n",
    "pb_clone.add_goal(Equals(at(truck1), airport1))\n",
    "solve(pb_clone)"
   ]
  },
  {
   "attachments": {},
   "cell_type": "markdown",
   "metadata": {
    "id": "rVzqSj3XoDPa"
   },
   "source": [
    "The planner tells us that there is no solution to this problem. This might be surprising as a single `move(truck1, loc1, airport1)` action would have worked to bring the truck to its objective.\n",
    "\n",
    "This highlights the most important difference between hierarchical and non-hierarchical planning.\n",
    "In hierarchical planning, all actions of the plan must derive from high-level *objective tasks*.\n",
    "\n",
    "Until now, we have defined any objective tasks, so no action are allowed in the plan."
   ]
  },
  {
   "attachments": {},
   "cell_type": "markdown",
   "metadata": {},
   "source": [
    "## Tasks and Methods\n",
    "\n",
    "Let us define our first task `bring-truck(truck, to)`:"
   ]
  },
  {
   "cell_type": "code",
   "execution_count": 149,
   "metadata": {},
   "outputs": [],
   "source": [
    "# Task representing the objective of getting a given truck to a particular location\n",
    "bring_truck = pb.add_task(\"bring-truck\", truck=Truck, destination=Loc)"
   ]
  },
  {
   "attachments": {},
   "cell_type": "markdown",
   "metadata": {},
   "source": [
    "Conceptually, a task captures an objective to be achieved. In our case, its captures the objective of bringing a `truck` to a given `destination`, both `truck` and `destination` being parameters of the task.\n",
    "\n",
    "\n",
    "To specify how such a task can be achieved, we should associate the task to a set of `Method`s: recipes that describe how a high-level task can be achieved though lower-level actions.\n",
    "\n",
    "In our case, bringing a truck to a given location has two possibilities:\n",
    " - if the truck is already at the target location, there is nothing to be done\n",
    " - if the truck is not at the right location but in the same city, it can use the `move` action to reach its destination\n",
    "\n",
    "We define one `Method` for each such recipe:"
   ]
  },
  {
   "cell_type": "code",
   "execution_count": 150,
   "metadata": {
    "id": "dRfrnEOfoHD8"
   },
   "outputs": [],
   "source": [
    "# Option 1: truck already at target location, nothing to do\n",
    "m = Method(\"bring-truck-noop\", truck=Truck, to=Loc)\n",
    "m.set_task(bring_truck, m.truck, m.to)  # declares that m achieves the `bring-truck(truck, to)` task`\n",
    "m.add_precondition(Equals(at(m.truck), m.to))\n",
    "pb.add_method(m)\n",
    "\n",
    "# Option 2: truck not at target location, move it\n",
    "m = Method(\"bring-truck-move\", truck=Truck, orig=Loc, to=Loc)\n",
    "m.set_task(bring_truck, m.truck, m.to)\n",
    "m.add_precondition(Equals(at(m.truck), m.orig))\n",
    "m.add_precondition(Not(Equals(m.orig, m.to)))\n",
    "m.add_precondition(Equals(city(m.orig), city(m.to)))\n",
    "m.add_subtask(move, m.truck, m.orig, m.to)\n",
    "pb.add_method(m)"
   ]
  },
  {
   "cell_type": "markdown",
   "metadata": {},
   "source": [
    "Now let's try to solve this problem. Recall that curently, it has no objectives."
   ]
  },
  {
   "cell_type": "code",
   "execution_count": 151,
   "metadata": {},
   "outputs": [
    {
     "name": "stdout",
     "output_type": "stream",
     "text": [
      "Plan: []\n"
     ]
    }
   ],
   "source": [
    "solve(pb)  # no objective tasks, empty plan"
   ]
  },
  {
   "attachments": {},
   "cell_type": "markdown",
   "metadata": {
    "id": "iMuggWWioJ8K"
   },
   "source": [
    "We get an empty plan which is what we expected as the problem specifies no objectives.\n",
    "\n",
    "Hierarchical problem have a concept of an *initial task network*: a partially order set of objectives tasks that specify *what* should be achieved to solve the problem.\n",
    "\n",
    "If we now add an objective task saying `truck1` should be brought to `airport1`:"
   ]
  },
  {
   "cell_type": "code",
   "execution_count": 160,
   "metadata": {
    "id": "pgrJOj6ioMSC"
   },
   "outputs": [
    {
     "name": "stdout",
     "output_type": "stream",
     "text": [
      "Plan: [(Fraction(0, 1), move(truck1, loc1, airport1), Fraction(1, 1))]\n"
     ]
    }
   ],
   "source": [
    "pb_clone = pb.clone()\n",
    "pb_clone.task_network.add_subtask(bring_truck(truck1, airport1))\n",
    "solve(pb_clone)"
   ]
  },
  {
   "attachments": {},
   "cell_type": "markdown",
   "metadata": {
    "id": "35A3dp--oOOS"
   },
   "source": [
    "We now get a plan with a single `move` action. Which the only possible plan for this problem.\n",
    "\n",
    "Indeed, to fulfill this task, we had two possibilities:\n",
    " - the `bring-truck-noop` that does nothing but requires that the truck is already at the target location\n",
    " - the `bring-truck-move` that does a single move action and require the truck to be in another location of the same city.\n",
    "\n",
    "Of the two methods only the second one was applicable.\n",
    "\n",
    "If we now try to achieve an objective task with a task that would require the first method, we get an empty plan:"
   ]
  },
  {
   "cell_type": "code",
   "execution_count": 153,
   "metadata": {
    "id": "jbwJbJv8oQ9B"
   },
   "outputs": [
    {
     "name": "stdout",
     "output_type": "stream",
     "text": [
      "Plan: []\n"
     ]
    }
   ],
   "source": [
    "pb_clone = pb.clone()\n",
    "pb_clone.task_network.add_subtask(bring_truck, truck1, loc1)\n",
    "solve(pb_clone)"
   ]
  },
  {
   "attachments": {},
   "cell_type": "markdown",
   "metadata": {
    "id": "L-MnST4ioTKo"
   },
   "source": [
    "## Going the hierarchy\n",
    "\n",
    "Now that we have our first that allows moving trucks in cities we can leverage it to define a more complex one: transporting packages from one location to another.\n",
    "\n"
   ]
  },
  {
   "cell_type": "code",
   "execution_count": 154,
   "metadata": {
    "id": "t7jLGJ1xoVxq"
   },
   "outputs": [],
   "source": [
    "# Task for transporting a given package from to a given location,\n",
    "# assuming that the package is already in the right city\n",
    "transport_in_city = pb.add_task(\"transport-in-city\", package=Package, destination=Loc)\n",
    "\n",
    "m = Method(\"transport-in-city-noop\", package=Package, to=Loc)\n",
    "m.set_task(transport_in_city, m.package, m.to)\n",
    "m.add_precondition(Equals(loc(m.package), m.to))\n",
    "pb.add_method(m)\n",
    "\n",
    "m = Method(\"transport-in-city-truck\", package=Package, orig=Loc, to=Loc, truck=Truck)\n",
    "m.set_task(transport_in_city, m.package, m.to)\n",
    "m.add_precondition(Equals(loc(m.package), m.orig)) # package is at origin\n",
    "m.add_precondition(Not(Equals(m.orig, m.to)))\n",
    "m.add_precondition(Equals(city(m.orig), city(m.to)))  # destination is the same city\n",
    "t1 = m.add_subtask(bring_truck, m.truck, m.orig)  # bring truck to package location\n",
    "t2 = m.add_subtask(load, m.package, m.truck, m.orig)  # load package in truck\n",
    "t3 = m.add_subtask(bring_truck, m.truck, m.to)  # bring truck to target location\n",
    "t4 = m.add_subtask(unload, m.package, m.truck, m.to)  # unload package at target location\n",
    "m.set_ordered(t1, t2, t3, t4)  # enforce all 4 subtasks to be done in this order\n",
    "pb.add_method(m)"
   ]
  },
  {
   "attachments": {},
   "cell_type": "markdown",
   "metadata": {
    "id": "re1sYZHKoYx5"
   },
   "source": [
    "Finally we set the objective of the problem, here transporting `package1` to `loc1`."
   ]
  },
  {
   "cell_type": "code",
   "execution_count": 155,
   "metadata": {
    "id": "4zKqcGHlocdY"
   },
   "outputs": [
    {
     "name": "stdout",
     "output_type": "stream",
     "text": [
      "Plan: [(Fraction(1, 10), move(truck1, loc1, airport1), Fraction(1, 1)), (Fraction(6, 5), load(package1, truck1, airport1), Fraction(1, 1)), (Fraction(23, 10), move(truck1, airport1, loc1), Fraction(1, 1)), (Fraction(17, 5), unload(package1, truck1, loc1), Fraction(1, 1))]\n"
     ]
    }
   ],
   "source": [
    "pb_clone = pb.clone()\n",
    "pb_clone.task_network.add_subtask(transport_in_city(package1, loc1))\n",
    "solve(pb_clone)"
   ]
  },
  {
   "attachments": {},
   "cell_type": "markdown",
   "metadata": {},
   "source": [
    "We can of course define multiple objectives for different packages."
   ]
  },
  {
   "cell_type": "code",
   "execution_count": 156,
   "metadata": {},
   "outputs": [
    {
     "name": "stdout",
     "output_type": "stream",
     "text": [
      "Plan: [(Fraction(0, 1), move(truck1, loc1, airport1), Fraction(1, 1)), (Fraction(11, 10), load(package1, truck1, airport1), Fraction(1, 1)), (Fraction(11, 5), move(truck1, airport1, loc1), Fraction(1, 1)), (Fraction(33, 10), unload(package1, truck1, loc1), Fraction(1, 1)), (Fraction(9, 2), load(package2, truck1, loc1), Fraction(1, 1)), (Fraction(28, 5), move(truck1, loc1, airport1), Fraction(1, 1)), (Fraction(67, 10), unload(package2, truck1, airport1), Fraction(1, 1))]\n"
     ]
    }
   ],
   "source": [
    "pb_clone = pb.clone()\n",
    "pb_clone.task_network.add_subtask(transport_in_city(package1, loc1))\n",
    "pb_clone.task_network.add_subtask(transport_in_city(package2, airport1))\n",
    "solve(pb_clone)"
   ]
  },
  {
   "attachments": {},
   "cell_type": "markdown",
   "metadata": {
    "id": "OTDDF5M1oezl"
   },
   "source": [
    "In the previous, the above problem the planner must achieve both tasks in an arbitrary order. Just like we restricted the order of tasks in methods, we can also restrict them in the initial task network.\n",
    "\n",
    "For instance, we could force `package2` to be handled before `package1`:"
   ]
  },
  {
   "cell_type": "code",
   "execution_count": 159,
   "metadata": {
    "id": "8FTO4AoTojko"
   },
   "outputs": [
    {
     "name": "stdout",
     "output_type": "stream",
     "text": [
      "Plan: [(Fraction(1, 10), load(package2, truck1, loc1), Fraction(1, 1)), (Fraction(6, 5), move(truck1, loc1, airport1), Fraction(1, 1)), (Fraction(23, 10), unload(package2, truck1, airport1), Fraction(1, 1)), (Fraction(7, 2), load(package1, truck1, airport1), Fraction(1, 1)), (Fraction(23, 5), move(truck1, airport1, loc1), Fraction(1, 1)), (Fraction(57, 10), unload(package1, truck1, loc1), Fraction(1, 1))]\n"
     ]
    }
   ],
   "source": [
    "pb_clone = pb.clone()\n",
    "t1 = pb_clone.task_network.add_subtask(transport_in_city(package1, loc1))\n",
    "t2 = pb_clone.task_network.add_subtask(transport_in_city(package2, airport1))\n",
    "pb_clone.task_network.set_ordered(t2, t1) # force t2 to be completed before starting t1\n",
    "solve(pb_clone)"
   ]
  },
  {
   "attachments": {},
   "cell_type": "markdown",
   "metadata": {
    "id": "Q-Pju4K2q_bM"
   },
   "source": [
    "We could also require that `package1` be first transported to `loc1` and then back to `airport1`."
   ]
  },
  {
   "cell_type": "code",
   "execution_count": 162,
   "metadata": {
    "id": "wuTcp_xTxvTj"
   },
   "outputs": [
    {
     "name": "stdout",
     "output_type": "stream",
     "text": [
      "Plan: [(Fraction(0, 1), move(truck1, loc1, airport1), Fraction(1, 1)), (Fraction(11, 10), load(package1, truck1, airport1), Fraction(1, 1)), (Fraction(11, 5), move(truck1, airport1, loc1), Fraction(1, 1)), (Fraction(33, 10), unload(package1, truck1, loc1), Fraction(1, 1)), (Fraction(9, 2), load(package1, truck1, loc1), Fraction(1, 1)), (Fraction(28, 5), move(truck1, loc1, airport1), Fraction(1, 1)), (Fraction(67, 10), unload(package1, truck1, airport1), Fraction(1, 1))]\n"
     ]
    }
   ],
   "source": [
    "pb_clone = pb.clone()\n",
    "t1 = pb_clone.task_network.add_subtask(transport_in_city(package1, loc1))\n",
    "t2 = pb_clone.task_network.add_subtask(transport_in_city(package1, airport1))\n",
    "pb_clone.task_network.set_ordered(t1, t2) # force t2 to be completed before starting t1\n",
    "solve(pb_clone)"
   ]
  },
  {
   "attachments": {},
   "cell_type": "markdown",
   "metadata": {},
   "source": [
    "### Extension: Inter-city travel by plane"
   ]
  }
 ],
 "metadata": {
  "colab": {
   "collapsed_sections": [],
   "name": "Unified_Planning_Basics.ipynb",
   "provenance": []
  },
  "kernelspec": {
   "display_name": "upf",
   "language": "python",
   "name": "upf"
  },
  "language_info": {
   "codemirror_mode": {
    "name": "ipython",
    "version": 3
   },
   "file_extension": ".py",
   "mimetype": "text/x-python",
   "name": "python",
   "nbconvert_exporter": "python",
   "pygments_lexer": "ipython3",
   "version": "3.8.10"
  },
  "vscode": {
   "interpreter": {
    "hash": "e7370f93d1d0cde622a1f8e1c04877d8463912d04d973331ad4851f04de6915a"
   }
  }
 },
 "nbformat": 4,
 "nbformat_minor": 1
}
